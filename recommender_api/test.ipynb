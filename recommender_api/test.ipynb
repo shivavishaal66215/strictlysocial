{
 "cells": [
  {
   "cell_type": "code",
   "execution_count": 1,
   "metadata": {},
   "outputs": [],
   "source": [
    "import pandas as pd\n",
    "from pymongo import MongoClient"
   ]
  },
  {
   "cell_type": "code",
   "execution_count": 2,
   "metadata": {},
   "outputs": [],
   "source": [
    "client = MongoClient('localhost',27017)\n",
    "db = client.social #replace with name of your db\n",
    "interests = db.interests #replace with the collection that contains all the interests\n",
    "userInterests = db.userinterests #replace with the collection that has data of user-interests"
   ]
  },
  {
   "cell_type": "code",
   "execution_count": 3,
   "metadata": {},
   "outputs": [],
   "source": [
    "cursor = interests.find()\n",
    "record = cursor[0]\n",
    "global_interests = record['interests']\n",
    "global_interests.insert(0,'user')"
   ]
  },
  {
   "cell_type": "code",
   "execution_count": 4,
   "metadata": {},
   "outputs": [],
   "source": [
    "cursor = userInterests.find()\n",
    "users = []\n",
    "for record in cursor:\n",
    "    d = {}\n",
    "    d['user'] = record['username']\n",
    "    \n",
    "    for interest in record['interests']:\n",
    "        d[interest] = 1.0\n",
    "\n",
    "    users.append(d)"
   ]
  },
  {
   "cell_type": "code",
   "execution_count": 5,
   "metadata": {},
   "outputs": [],
   "source": [
    "df = pd.DataFrame(users)\n",
    "df.fillna(0,axis=1,inplace=True)\n",
    "num_columns = len(df.columns)"
   ]
  },
  {
   "cell_type": "code",
   "execution_count": 6,
   "metadata": {},
   "outputs": [],
   "source": [
    "target_user = 'banana'"
   ]
  },
  {
   "cell_type": "code",
   "execution_count": 7,
   "metadata": {},
   "outputs": [],
   "source": [
    "index_target = 0\n",
    "for user in df['user']:\n",
    "    if(user == target_user):\n",
    "        break\n",
    "    index_target += 1"
   ]
  },
  {
   "cell_type": "code",
   "execution_count": 8,
   "metadata": {},
   "outputs": [],
   "source": [
    "users_score = {}\n",
    "#use manhattan distance to compute scores for users. [taken pairwise]\n",
    "for i in range(len(df)):\n",
    "    if(i == index_target):\n",
    "        continue\n",
    "    cur_user = df.iloc[i,0]\n",
    "    users_score[cur_user] = 0\n",
    "    for j in range(0,num_columns-1):\n",
    "        users_score[cur_user] += abs(int(df.iloc[index_target,j+1]) - int(df.iloc[i,j+1]))"
   ]
  },
  {
   "cell_type": "code",
   "execution_count": 10,
   "metadata": {},
   "outputs": [],
   "source": [
    "users_score_sorted = dict(sorted(users_score.items(),key=lambda item: item[1]))"
   ]
  },
  {
   "cell_type": "code",
   "execution_count": 11,
   "metadata": {},
   "outputs": [
    {
     "data": {
      "text/plain": [
       "{'diamond': 4, 'vishaal': 7}"
      ]
     },
     "execution_count": 11,
     "metadata": {},
     "output_type": "execute_result"
    }
   ],
   "source": [
    "users_score_sorted"
   ]
  },
  {
   "cell_type": "code",
   "execution_count": 17,
   "metadata": {},
   "outputs": [],
   "source": [
    "result_set = []\n",
    "for users in users_score_sorted.keys():\n",
    "    result_set.append(users)"
   ]
  },
  {
   "cell_type": "code",
   "execution_count": 19,
   "metadata": {},
   "outputs": [
    {
     "data": {
      "text/plain": [
       "['diamond', 'vishaal']"
      ]
     },
     "execution_count": 19,
     "metadata": {},
     "output_type": "execute_result"
    }
   ],
   "source": [
    "result_set"
   ]
  }
 ],
 "metadata": {
  "interpreter": {
   "hash": "b0fa6594d8f4cbf19f97940f81e996739fb7646882a419484c72d19e05852a7e"
  },
  "kernelspec": {
   "display_name": "Python 3.9.9 64-bit",
   "language": "python",
   "name": "python3"
  },
  "language_info": {
   "codemirror_mode": {
    "name": "ipython",
    "version": 3
   },
   "file_extension": ".py",
   "mimetype": "text/x-python",
   "name": "python",
   "nbconvert_exporter": "python",
   "pygments_lexer": "ipython3",
   "version": "3.10.1"
  },
  "orig_nbformat": 4
 },
 "nbformat": 4,
 "nbformat_minor": 2
}
